{
 "cells": [
  {
   "cell_type": "markdown",
   "id": "6f5d1d03",
   "metadata": {},
   "source": [
    "This notebook aims to measure a variety of expectation values of the Majumdar Gosh Model groundstate using classical shadows (comparing pennylane and qiskit shadows)."
   ]
  },
  {
   "cell_type": "code",
   "execution_count": 1,
   "id": "746cb85f",
   "metadata": {},
   "outputs": [],
   "source": [
    "import math\n",
    "from qiskit import QuantumCircuit, transpile, Aer\n",
    "from qiskit.providers.aer import QasmSimulator\n",
    "from qiskit.quantum_info.operators import Operator, Pauli, SparsePauliOp\n",
    "\n",
    "import pennylane as qml\n",
    "\n",
    "import matplotlib.pyplot as plt\n",
    "import time\n",
    "\n",
    "from concurrent.futures import ProcessPoolExecutor\n",
    "import itertools\n",
    "\n",
    "import operator\n",
    "import numpy as np\n",
    "np.random.seed(666)\n",
    "np.set_printoptions(precision=3, suppress=True, linewidth=150)"
   ]
  },
  {
   "cell_type": "code",
   "execution_count": 2,
   "id": "3b7f7094",
   "metadata": {},
   "outputs": [],
   "source": [
    "import QiskitClassicalShadows as qcs\n",
    "import PennylaneClassicalShadows as pcs"
   ]
  },
  {
   "cell_type": "code",
   "execution_count": 3,
   "id": "ef28eb1c",
   "metadata": {},
   "outputs": [],
   "source": [
    "from qiskit_ibm_runtime import QiskitRuntimeService, Estimator"
   ]
  },
  {
   "cell_type": "code",
   "execution_count": 4,
   "id": "218e0ad2",
   "metadata": {},
   "outputs": [
    {
     "name": "stdout",
     "output_type": "stream",
     "text": [
      "Qiskit Majumdar Gosh Model Classical Shadow size 50,000\n",
      "Here we have the results of the measurements of the qubits in the computational basis:\n",
      "[[-1  1 -1 ... -1  1 -1]\n",
      " [-1  1 -1 ... -1  1  1]\n",
      " [ 1 -1  1 ...  1 -1  1]\n",
      " ...\n",
      " [ 1  1 -1 ... -1  1  1]\n",
      " [ 1  1  1 ... -1  1 -1]\n",
      " [ 1 -1  1 ... -1 -1  1]]\n",
      "Here we have the unitary operator the acted upon each respective qubit(X:0,Y:1,Z:2):\n",
      "[[0 2 1 ... 2 1 2]\n",
      " [0 1 2 ... 2 1 0]\n",
      " [2 0 1 ... 1 1 1]\n",
      " ...\n",
      " [0 2 0 ... 1 0 1]\n",
      " [1 0 0 ... 0 2 2]\n",
      " [0 0 1 ... 1 1 1]]\n"
     ]
    }
   ],
   "source": [
    "#This function creates a groundstate Majumdar Gosh Model to test the Classical Shadow Reconstruction of States\n",
    "system_size = 8\n",
    "\n",
    "#This creates a circuit where the qubits are in the form |\\psi> = 1/sqrt(2)(|01>-|10>)...1/sqrt(2)(|01>-|10>)\n",
    "Q_MG_circuit = QuantumCircuit(system_size)\n",
    "for i in range(0, system_size, 2): #Was previously for i in range(0, 10, 2)\n",
    "            Q_MG_circuit.h(i)\n",
    "            Q_MG_circuit.x(i+1)\n",
    "            Q_MG_circuit.z(i)\n",
    "            Q_MG_circuit.cnot(i,i+1)\n",
    "            Q_MG_circuit.x(i)\n",
    "            Q_MG_circuit.x(i+1)\n",
    "\n",
    "num_snapshots = 50000\n",
    "params = []\n",
    "\n",
    "#calculate the shadow of the majumdar gosh circuit, shadow is a tuple containing array of measurement results\n",
    "#and array of the unitary gates that rotated each qubit before measurement\n",
    "Q_MG_shadow = qcs.calc_shadow(Q_MG_circuit, num_snapshots, system_size)\n",
    "\n",
    "print(\"Qiskit Majumdar Gosh Model Classical Shadow size 50,000\")\n",
    "print(\"Here we have the results of the measurements of the qubits in the computational basis:\")\n",
    "print(Q_MG_shadow[0])\n",
    "print(\"Here we have the unitary operator the acted upon each respective qubit(X:0,Y:1,Z:2):\")\n",
    "print(Q_MG_shadow[1])"
   ]
  },
  {
   "cell_type": "code",
   "execution_count": 5,
   "id": "8ffbd204",
   "metadata": {},
   "outputs": [
    {
     "name": "stdout",
     "output_type": "stream",
     "text": [
      "['0X1X', '2Z6Z', '2X3X', '4Y5Y', '0X1X2X3X', '2Z3Z4X6X', '1X2X6Z7Z', '1X5Y', '4X5X', '4X5X6Z7Z']\n"
     ]
    }
   ],
   "source": [
    "Q_MG_Observables = [\"0X1X\", \"2Z6Z\", \"2X3X\", \"4Y5Y\", \"0X1X2X3X\", \"2Z3Z4X6X\", \"1X2X6Z7Z\", \"1X5Y\", \"4X5X\", \"4X5X6Z7Z\"]\n",
    "print(Q_MG_Observables)"
   ]
  },
  {
   "cell_type": "code",
   "execution_count": 6,
   "id": "71739b54",
   "metadata": {},
   "outputs": [
    {
     "name": "stdout",
     "output_type": "stream",
     "text": [
      "[-1, 0, -1, -1, 1, 0, 0, 0, -1, 1]\n"
     ]
    }
   ],
   "source": [
    "#These are the analytic expectation values we expect for the above observables\n",
    "analytic_expectation_values = [-1, 0, -1, -1, 1, 0, 0, 0, -1, 1]\n",
    "print (analytic_expectation_values)"
   ]
  },
  {
   "cell_type": "code",
   "execution_count": 7,
   "id": "addfdee9",
   "metadata": {},
   "outputs": [
    {
     "name": "stdout",
     "output_type": "stream",
     "text": [
      "[-1.0, -0.0075, -1.0, -1.0, 1.0, 0.0155, -0.0105, 0.0095, -1.0, 1.0]\n"
     ]
    }
   ],
   "source": [
    "#Exact Expectation values calculated through cloud qasm simulator\n",
    "service = QiskitRuntimeService(channel=\"ibm_quantum\")\n",
    "backend = service.backend(\"ibmq_qasm_simulator\")\n",
    "\n",
    "estimator = Estimator(backend=backend)\n",
    "\n",
    "Q_expval_exact = []\n",
    "\n",
    "Q_exac_circ = Q_MG_circuit.copy()\n",
    "for o in Q_MG_Observables:\n",
    "    Q_op = qcs.obs_to_op(o, Q_exac_circ.num_qubits)\n",
    "    Q_expectation_value = estimator.run(Q_exac_circ, Q_op).result().values\n",
    "    Q_expval_exact.append(Q_expectation_value[0])\n",
    "\n",
    "print(Q_expval_exact)"
   ]
  },
  {
   "cell_type": "code",
   "execution_count": 8,
   "id": "75f51de5",
   "metadata": {},
   "outputs": [
    {
     "name": "stdout",
     "output_type": "stream",
     "text": [
      "[-1.0, -0.013671875, -1.0, -1.0, 1.0, 0.009765625, -0.03515625, -0.0234375, -1.0, 1.0]\n"
     ]
    }
   ],
   "source": [
    "#Exact Expectation values calculated using local AER Simulator for those without an IBMQ account\n",
    "from qiskit_aer.primitives import Estimator\n",
    "estimator = Estimator(run_options= {\"method\": \"statevector\"})\n",
    "\n",
    "Q_expval_exact = []\n",
    "Q_exac_circ = Q_MG_circuit.copy()\n",
    "\n",
    "for o in Q_MG_Observables:\n",
    "    Q_op = qcs.obs_to_op(o, Q_exac_circ.num_qubits)\n",
    "    Q_expectation_value = estimator.run(Q_exac_circ, Q_op).result().values\n",
    "    Q_expval_exact.append(Q_expectation_value[0])\n",
    "    \n",
    "print(Q_expval_exact)"
   ]
  },
  {
   "cell_type": "code",
   "execution_count": 9,
   "id": "0382fdbd",
   "metadata": {},
   "outputs": [
    {
     "name": "stdout",
     "output_type": "stream",
     "text": [
      "[-1.     0.018 -1.    -1.     1.    -0.046  0.015 -0.007 -1.     1.   ]\n"
     ]
    }
   ],
   "source": [
    "#These are the estimated expectation values using classical shadows for the above observables\n",
    "Q_MG_exp_vals = [qcs.estimate_obervable(Q_MG_shadow, o) for o in Q_MG_Observables]\n",
    "print(np.array(Q_MG_exp_vals))"
   ]
  },
  {
   "cell_type": "code",
   "execution_count": 10,
   "id": "eeb62a00",
   "metadata": {},
   "outputs": [
    {
     "name": "stdout",
     "output_type": "stream",
     "text": [
      "Pennylane Majumdar Gosh Model Classical Shadow size 50,000\n",
      "Here we have the results of the measurements of the qubits in the computational basis:\n",
      "[[ 1.  1. -1. ... -1. -1.  1.]\n",
      " [-1. -1.  1. ...  1. -1.  1.]\n",
      " [-1.  1. -1. ... -1.  1. -1.]\n",
      " ...\n",
      " [ 1. -1.  1. ...  1. -1.  1.]\n",
      " [-1.  1. -1. ...  1. -1.  1.]\n",
      " [-1.  1. -1. ... -1. -1.  1.]]\n",
      "Here we have the unitary operator the acted upon each respective qubit(X:0,Y:1,Z:2):\n",
      "[[1 2 1 ... 2 0 1]\n",
      " [0 2 2 ... 2 2 0]\n",
      " [2 1 0 ... 1 1 1]\n",
      " ...\n",
      " [1 1 1 ... 0 0 0]\n",
      " [0 2 2 ... 1 2 1]\n",
      " [2 2 2 ... 2 0 1]]\n"
     ]
    }
   ],
   "source": [
    "#This function creates a groundstate Majumdar Gosh Model and calculates its classical shadow with size 10,000\n",
    "system_size = 8\n",
    "dev = qml.device(\"default.qubit\", wires = system_size, shots = 1)\n",
    "\n",
    "@qml.qnode(dev)\n",
    "def P_MG_Circuit(params, **kawargs):\n",
    "    observables = kawargs.pop(\"observables\")\n",
    "    for i in range(0, system_size, 2):\n",
    "        qml.Hadamard(wires = i)\n",
    "        qml.PauliX(wires = i+1)\n",
    "        qml.PauliZ(wires = i)\n",
    "        qml.CNOT(wires = [i,i+1])\n",
    "        qml.PauliX(wires = i)\n",
    "        qml.PauliX(wires = i+1)\n",
    "    return [qml.expval(o) for o in observables]\n",
    "\n",
    "num_snapshots = 50000\n",
    "params = [] \n",
    "\n",
    "P_MG_shadow = pcs.calculate_classical_shadow(P_MG_Circuit, params, num_snapshots, system_size)\n",
    "\n",
    "print(\"Pennylane Majumdar Gosh Model Classical Shadow size 50,000\")\n",
    "print(\"Here we have the results of the measurements of the qubits in the computational basis:\")\n",
    "print(P_MG_shadow[0])\n",
    "print(\"Here we have the unitary operator the acted upon each respective qubit(X:0,Y:1,Z:2):\")\n",
    "print(P_MG_shadow[1])"
   ]
  },
  {
   "cell_type": "code",
   "execution_count": 11,
   "id": "5f73dbd4",
   "metadata": {},
   "outputs": [],
   "source": [
    "P_MG_Observables = [qml.PauliX(0)@qml.PauliX(1), qml.PauliZ(2)@qml.PauliZ(6),qml.PauliX(2)@qml.PauliX(3), qml.PauliY(4)@qml.PauliY(5)\n",
    "                 ,qml.PauliX(0)@qml.PauliX(1)@qml.PauliX(2)@qml.PauliX(3), qml.PauliZ(2)@qml.PauliZ(3)@qml.PauliX(4)@qml.PauliX(6)\n",
    "                 ,qml.PauliX(1)@qml.PauliX(2)@qml.PauliZ(6)@qml.PauliZ(7), qml.PauliX(1)@qml.PauliY(5),qml.PauliX(4)@qml.PauliX(5),\n",
    "                 qml.PauliX(4)@qml.PauliX(5)@qml.PauliZ(6)@qml.PauliZ(7)]"
   ]
  },
  {
   "cell_type": "code",
   "execution_count": 12,
   "id": "a4f0bffc",
   "metadata": {},
   "outputs": [
    {
     "name": "stdout",
     "output_type": "stream",
     "text": [
      "[-1.    -0.019 -1.    -1.     1.    -0.024 -0.007 -0.005 -1.     1.   ]\n"
     ]
    }
   ],
   "source": [
    "#These are the estimated expectation values using classical shadows for the above observables\n",
    "P_MG_exp_vals = [pcs.estimate_shadow_obervable(P_MG_shadow, o) for o in P_MG_Observables]\n",
    "print(np.array(P_MG_exp_vals))"
   ]
  },
  {
   "cell_type": "markdown",
   "id": "964f9575",
   "metadata": {},
   "source": [
    "The following lines of code test the qiskit majumdar gosh circuit created above with a sample set of rotations:\n",
    "[2,2,2,1,1,0,2,0]"
   ]
  },
  {
   "cell_type": "code",
   "execution_count": 13,
   "id": "bd422e72",
   "metadata": {},
   "outputs": [
    {
     "name": "stdout",
     "output_type": "stream",
     "text": [
      "[1, -1, 1, -1, -1, -1, 1, -1]\n",
      "[1, -1, 1, -1, -1, 1, 1, -1]\n",
      "[-1, 1, -1, -1, -1, 1, -1, -1]\n",
      "[1, -1, -1, -1, -1, 1, 1, 1]\n",
      "[1, -1, 1, -1, -1, -1, 1, -1]\n",
      "[-1, 1, 1, -1, -1, -1, 1, -1]\n",
      "[1, -1, -1, -1, 1, -1, 1, 1]\n",
      "[-1, 1, 1, 1, -1, -1, -1, -1]\n",
      "[1, -1, -1, -1, 1, -1, 1, -1]\n",
      "[-1, 1, 1, -1, 1, 1, -1, 1]\n"
     ]
    }
   ],
   "source": [
    "map_result = {\"0\": 1, \"1\": -1}\n",
    "system_size = 8\n",
    "MG_test = QuantumCircuit(system_size)\n",
    "for i in range(0, system_size, 2): #Was previously for i in range(0, 10, 2)\n",
    "    MG_test.h(i)\n",
    "    MG_test.x(i+1)\n",
    "    MG_test.z(i)\n",
    "    MG_test.cnot(i,i+1)\n",
    "    MG_test.x(i)\n",
    "    MG_test.x(i+1)\n",
    "\n",
    "MG_test.id(0)\n",
    "MG_test.id(1)\n",
    "MG_test.id(2)\n",
    "#MG_test.sdg(3)\n",
    "MG_test.rz(-np.pi/2, 3)\n",
    "MG_test.h(3)\n",
    "#MG_test.sdg(4)\n",
    "MG_test.rz(-np.pi/2, 4)\n",
    "MG_test.h(4)\n",
    "MG_test.h(5)\n",
    "MG_test.id(6)\n",
    "MG_test.h(7)\n",
    "\n",
    "MG_test.measure_all()\n",
    "                    \n",
    "simulator = Aer.get_backend('aer_simulator')\n",
    "\n",
    "for i in range(10):\n",
    "    compiled_circuit = transpile(MG_test, simulator)\n",
    "    job = simulator.run(compiled_circuit, shots=1)\n",
    "    result = job.result().get_counts(compiled_circuit)\n",
    "    vals = [map_result[r] for r in list(result)[0][::-1]]\n",
    "    print(vals)"
   ]
  },
  {
   "cell_type": "markdown",
   "id": "bb316a68",
   "metadata": {},
   "source": [
    "The following lines of code test the shadow created for the qiskit MG circuit"
   ]
  },
  {
   "cell_type": "code",
   "execution_count": 14,
   "id": "afe59814",
   "metadata": {},
   "outputs": [
    {
     "name": "stdout",
     "output_type": "stream",
     "text": [
      "[ 1 -1 -1  1 -1  1  1 -1]\n",
      "[ 1 -1 -1  1 -1  1  1 -1]\n",
      "[ 1 -1 -1  1 -1  1  1 -1]\n",
      "[ 1 -1 -1  1 -1  1  1 -1]\n",
      "[ 1 -1 -1  1 -1  1  1 -1]\n",
      "[ 1 -1 -1  1 -1  1  1 -1]\n",
      "[ 1 -1 -1  1 -1  1  1 -1]\n",
      "[ 1 -1 -1  1 -1  1  1 -1]\n",
      "50000\n",
      "400000\n",
      "[2 2 2 1 1 0 2 0]\n",
      "[2 2 2 1 1 0 2 0]\n",
      "[2 2 2 1 1 0 2 0]\n",
      "[2 2 2 1 1 0 2 0]\n",
      "[2 2 2 1 1 0 2 0]\n",
      "[2 2 2 1 1 0 2 0]\n",
      "[2 2 2 1 1 0 2 0]\n",
      "[2 2 2 1 1 0 2 0]\n",
      "[1 0 1 2 1 2 1 0]\n",
      "50000\n",
      "400000\n"
     ]
    }
   ],
   "source": [
    "vals = Q_MG_shadow[0]\n",
    "count1 = 0\n",
    "count2 = 0\n",
    "for v in vals:\n",
    "    count1 = count1 + 1\n",
    "    for v2 in v:\n",
    "        count2 = count2 + 1\n",
    "        if count1 == 500:\n",
    "            print(v)\n",
    "        if not(v2 in [1,-1]):\n",
    "            print(\"Error\")\n",
    "print(count1)\n",
    "print(count2)\n",
    "unitaries = Q_MG_shadow[1]\n",
    "count3 = 0\n",
    "count4 = 0\n",
    "for unitary in unitaries:\n",
    "    count3 = count3 + 1\n",
    "    for u in unitary:\n",
    "        count4 = count4 + 1\n",
    "        if count3 == 500:\n",
    "            print(unitary)\n",
    "        if not(u in [0,1,2]):\n",
    "            print(\"Error\")\n",
    "print((Q_MG_shadow[1])[30000])\n",
    "print(count3)\n",
    "print(count4)"
   ]
  }
 ],
 "metadata": {
  "kernelspec": {
   "display_name": "Python 3 (ipykernel)",
   "language": "python",
   "name": "python3"
  },
  "language_info": {
   "codemirror_mode": {
    "name": "ipython",
    "version": 3
   },
   "file_extension": ".py",
   "mimetype": "text/x-python",
   "name": "python",
   "nbconvert_exporter": "python",
   "pygments_lexer": "ipython3",
   "version": "3.10.8"
  }
 },
 "nbformat": 4,
 "nbformat_minor": 5
}
