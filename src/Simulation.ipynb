{
 "cells": [
  {
   "cell_type": "code",
   "execution_count": null,
   "metadata": {},
   "outputs": [],
   "source": [
    "import numpy as np\n",
    "from qiskit import QuantumCircuit, transpile\n",
    "from qiskit.providers.aer import QasmSimulator\n",
    "from qiskit.visualization import plot_histogram\n",
    "from concurrent.futures import ProcessPoolExecutor\n",
    "from MG_Model import task"
   ]
  },
  {
   "cell_type": "code",
   "execution_count": null,
   "metadata": {},
   "outputs": [],
   "source": [
    "OBSERVABLE_NAME = \"Example_Observables\"\n",
    "OBSERVABLE_FILE = f\"{OBSERVABLE_NAME}.txt\"\n",
    "SCHEMA_FILE = f\"{OBSERVABLE_NAME}_scheme.txt\"\n",
    "MEASUREMENT_FILE = f\"{OBSERVABLE_NAME}_measurement.txt\"\n",
    "\n",
    "OBSERVABLES_PATH = \"observables/\"\n",
    "SCHEMES_PATH = \"schemes/\"\n",
    "MEASUREMENTS_PATH = \"measurements/\""
   ]
  },
  {
   "cell_type": "code",
   "execution_count": null,
   "metadata": {
    "scrolled": true
   },
   "outputs": [],
   "source": [
    "#This program is intended as supplementary to the classical shadow tomography code used to predict many properties\n",
    "#from very few measurements, using Qiskit the quantum system is created and given the appropriate measurement scheme\n",
    "#as input. Measurements are then made on the system and recorded in a text file called automated_measurement.txt\n",
    "\n",
    "#Set initial values of the parameters\n",
    "scheme = []\n",
    "system_size = 10\n",
    "\n",
    "#Read the file with the measurement scheme into the scheme list\n",
    "\n",
    "#Derandomized Scheme: /Users/danielqenani/Desktop/Research/predicting-quantum-properties/scheme.txt\n",
    "#Scheme used in Repo: /Users/danielqenani/Desktop/Research/predicting-quantum-properties/preset_scheme.txt\n",
    "\n",
    "\n",
    "with open(f\"{SCHEMES_PATH}{SCHEMA_FILE}\") as f:\n",
    "    scheme = f.readlines()\n",
    "\n",
    "output = []\n",
    "output.append(f\"{system_size}\")\n",
    "\n",
    "\n",
    "system_size_iterable = [system_size] * len(scheme)\n",
    "with ProcessPoolExecutor() as executor:\n",
    "    result = executor.map(task,scheme, system_size_iterable)\n",
    "        \n",
    "#output.append(result)\n",
    "output.extend(list(result))\n",
    "    \n",
    "\n",
    "#Print the output\n",
    "# print(output)\n",
    "    \n",
    "#Write the list of measurement values out to a text file called automated_measurement.txt\n",
    "g = open(f\"{MEASUREMENTS_PATH}{MEASUREMENT_FILE}\", \"w\")\n",
    "for l in output:\n",
    "    l = l + \"\\n\"\n",
    "    g.write(l)\n",
    "g.close()\n"
   ]
  }
 ],
 "metadata": {
  "kernelspec": {
   "display_name": "Python 3.11.0 ('.venv': poetry)",
   "language": "python",
   "name": "python3"
  },
  "language_info": {
   "codemirror_mode": {
    "name": "ipython",
    "version": 3
   },
   "file_extension": ".py",
   "mimetype": "text/x-python",
   "name": "python",
   "nbconvert_exporter": "python",
   "pygments_lexer": "ipython3",
   "version": "3.11.0"
  },
  "vscode": {
   "interpreter": {
    "hash": "3f616440afffa6c0b25201fce2f0b39f7655c52dafbfbf2f5539b82d04efd448"
   }
  }
 },
 "nbformat": 4,
 "nbformat_minor": 4
}
