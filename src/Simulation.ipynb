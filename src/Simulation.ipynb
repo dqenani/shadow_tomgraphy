{
 "cells": [
  {
   "cell_type": "code",
   "execution_count": 1,
   "metadata": {},
   "outputs": [
    {
     "ename": "ModuleNotFoundError",
     "evalue": "No module named 'numpy'",
     "output_type": "error",
     "traceback": [
      "\u001b[0;31m---------------------------------------------------------------------------\u001b[0m",
      "\u001b[0;31mModuleNotFoundError\u001b[0m                       Traceback (most recent call last)",
      "Cell \u001b[0;32mIn[1], line 1\u001b[0m\n\u001b[0;32m----> 1\u001b[0m \u001b[38;5;28;01mimport\u001b[39;00m \u001b[38;5;21;01mnumpy\u001b[39;00m \u001b[38;5;28;01mas\u001b[39;00m \u001b[38;5;21;01mnp\u001b[39;00m\n\u001b[1;32m      2\u001b[0m \u001b[38;5;28;01mfrom\u001b[39;00m \u001b[38;5;21;01mqiskit\u001b[39;00m \u001b[38;5;28;01mimport\u001b[39;00m QuantumCircuit, transpile\n\u001b[1;32m      3\u001b[0m \u001b[38;5;28;01mfrom\u001b[39;00m \u001b[38;5;21;01mqiskit\u001b[39;00m\u001b[38;5;21;01m.\u001b[39;00m\u001b[38;5;21;01mproviders\u001b[39;00m\u001b[38;5;21;01m.\u001b[39;00m\u001b[38;5;21;01maer\u001b[39;00m \u001b[38;5;28;01mimport\u001b[39;00m QasmSimulator\n",
      "\u001b[0;31mModuleNotFoundError\u001b[0m: No module named 'numpy'"
     ]
    }
   ],
   "source": [
    "import numpy as np\n",
    "from qiskit import QuantumCircuit, transpile\n",
    "from qiskit.providers.aer import QasmSimulator\n",
    "from qiskit.visualization import plot_histogram\n",
    "from concurrent.futures import ProcessPoolExecutor\n",
    "from MG_Model import task"
   ]
  },
  {
   "cell_type": "code",
   "execution_count": 10,
   "metadata": {},
   "outputs": [
    {
     "data": {
      "text/plain": [
       "{'qiskit-terra': '0.21.2', 'qiskit-aer': '0.11.0', 'qiskit-ignis': '0.6.0', 'qiskit-ibmq-provider': '0.19.2', 'qiskit': '0.38.0', 'qiskit-nature': None, 'qiskit-finance': None, 'qiskit-optimization': None, 'qiskit-machine-learning': None}"
      ]
     },
     "execution_count": 10,
     "metadata": {},
     "output_type": "execute_result"
    }
   ],
   "source": [
    "import qiskit\n",
    "qiskit.__qiskit_version__"
   ]
  },
  {
   "cell_type": "code",
   "execution_count": 30,
   "metadata": {
    "scrolled": true
   },
   "outputs": [],
   "source": [
    "#This program is intended as supplementary to the classical shadow tomography code used to predict many properties\n",
    "#from very few measurements, using Qiskit the quantum system is created and given the appropriate measurement scheme\n",
    "#as input. Measurements are then made on the system and recorded in a text file called automated_measurement.txt\n",
    "\n",
    "#Set initial values of the parameters\n",
    "scheme = []\n",
    "system_size = 10\n",
    "\n",
    "#Read the file with the measurement scheme into the scheme list\n",
    "\n",
    "#Derandomized Scheme: /Users/danielqenani/Desktop/Research/predicting-quantum-properties/scheme.txt\n",
    "#Scheme used in Repo: /Users/danielqenani/Desktop/Research/predicting-quantum-properties/preset_scheme.txt\n",
    "with open(\"/Users/danielqenani/Desktop/Research/predicting-quantum-properties-master/8QubitSystem_scheme10.txt\") as f:\n",
    "    scheme = f.readlines()\n",
    "\n",
    "output = []\n",
    "output.append(f\"{system_size}\")\n",
    "\n",
    "\n",
    "system_size_iterable = [system_size] * len(scheme)\n",
    "with ProcessPoolExecutor() as executor:\n",
    "    result = executor.map(task,scheme, system_size_iterable)\n",
    "        \n",
    "#output.append(result)\n",
    "output.extend(list(result))\n",
    "    \n",
    "\n",
    "#Print the output\n",
    "# print(output)\n",
    "    \n",
    "#Write the list of measurement values out to a text file called automated_measurement.txt\n",
    "g = open(\"/Users/danielqenani/Desktop/Research/predicting-quantum-properties-master/8Qubit_measurement10.txt\", \"w\")\n",
    "for l in output:\n",
    "    l = l + \"\\n\"\n",
    "    g.write(l)\n",
    "g.close()\n"
   ]
  },
  {
   "cell_type": "code",
   "execution_count": 10,
   "metadata": {},
   "outputs": [],
   "source": [
    "#Used this function to parse a measurement scheme from the measurement results contained in the git repo\n",
    "final = []\n",
    "with open('/Users/danielqenani/Desktop/Research/predicting-quantum-properties/measurement.txt') as h:\n",
    "    meas = h.readlines()\n",
    "    for line in meas:\n",
    "        temp = \"\"\n",
    "        for c in line:\n",
    "            if (c == 'X' or c == 'Y' or c == 'Z'):\n",
    "                temp = temp + c + \" \"\n",
    "        \n",
    "        final.append(temp)\n",
    "        \n",
    "k = open(\"/Users/danielqenani/Desktop/Research/preset_scheme.txt\", \"w\")\n",
    "for t in final:\n",
    "    if (t != \"\"):\n",
    "        t = t + \"\\n\"\n",
    "        k.write(t)\n",
    "k.close()"
   ]
  },
  {
   "cell_type": "code",
   "execution_count": null,
   "metadata": {},
   "outputs": [],
   "source": []
  }
 ],
 "metadata": {
  "kernelspec": {
   "display_name": "Python 3 (ipykernel)",
   "language": "python",
   "name": "python3"
  },
  "language_info": {
   "codemirror_mode": {
    "name": "ipython",
    "version": 3
   },
   "file_extension": ".py",
   "mimetype": "text/x-python",
   "name": "python",
   "nbconvert_exporter": "python",
   "pygments_lexer": "ipython3",
   "version": "3.9.6"
  },
  "vscode": {
   "interpreter": {
    "hash": "31f2aee4e71d21fbe5cf8b01ff0e069b9275f58929596ceb00d14d90e3e16cd6"
   }
  }
 },
 "nbformat": 4,
 "nbformat_minor": 4
}
